{
 "cells": [
  {
   "cell_type": "code",
   "execution_count": 5,
   "id": "6ceaa73c-d6fc-4d00-855d-4d861b986d11",
   "metadata": {},
   "outputs": [
    {
     "name": "stdin",
     "output_type": "stream",
     "text": [
      "Hi,how can I help you?\n",
      "                   1. Press 1 to create pin\n",
      "                   2. Press 2 to change pin       \n",
      "                   3. Press 3 to check balance\n",
      "                   4. Press 4 to withdraw\n",
      "                   5. Anything to exit 1\n",
      "Enter your pin:  123\n",
      "Enter the balance:  500\n"
     ]
    },
    {
     "name": "stdout",
     "output_type": "stream",
     "text": [
      "Pin created successfully!\n"
     ]
    },
    {
     "name": "stdin",
     "output_type": "stream",
     "text": [
      "Hi,how can I help you?\n",
      "                   1. Press 1 to create pin\n",
      "                   2. Press 2 to change pin       \n",
      "                   3. Press 3 to check balance\n",
      "                   4. Press 4 to withdraw\n",
      "                   5. Anything to exit 2\n",
      "Enter old pin:  123\n",
      "Enter new pin:  456\n"
     ]
    },
    {
     "name": "stdout",
     "output_type": "stream",
     "text": [
      "Pin changed successfully!\n"
     ]
    },
    {
     "name": "stdin",
     "output_type": "stream",
     "text": [
      "Hi,how can I help you?\n",
      "                   1. Press 1 to create pin\n",
      "                   2. Press 2 to change pin       \n",
      "                   3. Press 3 to check balance\n",
      "                   4. Press 4 to withdraw\n",
      "                   5. Anything to exit 3\n",
      "Enter your pin:  456\n"
     ]
    },
    {
     "name": "stdout",
     "output_type": "stream",
     "text": [
      "Your balance is 500\n"
     ]
    },
    {
     "name": "stdin",
     "output_type": "stream",
     "text": [
      "Hi,how can I help you?\n",
      "                   1. Press 1 to create pin\n",
      "                   2. Press 2 to change pin       \n",
      "                   3. Press 3 to check balance\n",
      "                   4. Press 4 to withdraw\n",
      "                   5. Anything to exit 4\n",
      "Enter your pin:  123\n"
     ]
    },
    {
     "name": "stdout",
     "output_type": "stream",
     "text": [
      "Your pin is wrong!\n"
     ]
    }
   ],
   "source": [
    "class Atm:\n",
    "    def __init__(self):\n",
    "        self.pin = \" \"\n",
    "        self.balance = 0\n",
    "        self.menu()\n",
    "    \n",
    "    def menu(self):\n",
    "        user_input= input(\"\"\"Hi,how can I help you?\n",
    "                   1. Press 1 to create pin\n",
    "                   2. Press 2 to change pin       \n",
    "                   3. Press 3 to check balance\n",
    "                   4. Press 4 to withdraw\n",
    "                   5. Anything to exit\"\"\"      )\n",
    "        if user_input == '1':\n",
    "            self.create_pin()\n",
    "        elif user_input == '2':\n",
    "            self.change_pin()\n",
    "        elif user_input =='3':\n",
    "            self.check_balance()\n",
    "        elif user_input =='4':\n",
    "            self.withdraw()\n",
    "        else:\n",
    "            exit()\n",
    "\n",
    "    def create_pin(self):\n",
    "        user_pin = input(\"Enter your pin: \")\n",
    "        self.pin = user_pin\n",
    "        user_balance = int(input(\"Enter the balance: \"))\n",
    "        self.balance = user_balance\n",
    "        print(\"Pin created successfully!\")\n",
    "        self.menu()\n",
    "\n",
    "    def change_pin(self):\n",
    "        old_pin = input(\"Enter old pin: \")\n",
    "        if old_pin == self.pin:\n",
    "            new_pin = input(\"Enter new pin: \")\n",
    "            self.pin = new_pin\n",
    "            print(\"Pin changed successfully!\")\n",
    "            self.menu()\n",
    "    \n",
    "        else:\n",
    "            print(\"Sorry,you entered wrong pin\")\n",
    "    \n",
    "    def check_balance(self):\n",
    "        user_pin = input(\"Enter your pin: \")\n",
    "        if user_pin == self.pin:\n",
    "            print(f\"Your balance is {self.balance}\")\n",
    "        else:\n",
    "            print(\"Your pin is incorrect. Please try again\")\n",
    "        self.menu()\n",
    "\n",
    "    def withdraw(self):\n",
    "        user_pin = input(\"Enter your pin: \")\n",
    "        if user_pin ==self.pin:\n",
    "            amount= int(input(\"Enter the amount: \"))\n",
    "            if amount<=self.balance:\n",
    "                self.balance = self.balance - amount\n",
    "                print(f\"Withdraw successfull.Your balance is {self.balance}\")\n",
    "            else:\n",
    "                print(\"Insufficient balance\")\n",
    "        else:\n",
    "            print(\"Your pin is wrong!\")   \n",
    "\n",
    "obj = Atm() "
   ]
  },
  {
   "cell_type": "code",
   "execution_count": null,
   "id": "1aa9d417-f36e-4753-a242-3ad916770541",
   "metadata": {},
   "outputs": [],
   "source": []
  },
  {
   "cell_type": "code",
   "execution_count": null,
   "id": "686a7a23-af98-42a8-9d70-27527ca209ac",
   "metadata": {},
   "outputs": [],
   "source": []
  },
  {
   "cell_type": "code",
   "execution_count": null,
   "id": "131d3211-b519-48f5-9c26-1d704e29f11f",
   "metadata": {},
   "outputs": [],
   "source": []
  }
 ],
 "metadata": {
  "kernelspec": {
   "display_name": "Python 3 (ipykernel)",
   "language": "python",
   "name": "python3"
  },
  "language_info": {
   "codemirror_mode": {
    "name": "ipython",
    "version": 3
   },
   "file_extension": ".py",
   "mimetype": "text/x-python",
   "name": "python",
   "nbconvert_exporter": "python",
   "pygments_lexer": "ipython3",
   "version": "3.11.7"
  }
 },
 "nbformat": 4,
 "nbformat_minor": 5
}
