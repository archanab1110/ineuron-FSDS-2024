{
 "cells": [
  {
   "cell_type": "markdown",
   "id": "c7868c2b-7ca6-4a77-9f43-e9713c5bd3c5",
   "metadata": {},
   "source": [
    "# Write a Python program to count the number of items in a dictionary value that is a list."
   ]
  },
  {
   "cell_type": "code",
   "execution_count": 2,
   "id": "24a7ba5a-370b-4862-82e3-6fe30a399794",
   "metadata": {},
   "outputs": [
    {
     "name": "stdout",
     "output_type": "stream",
     "text": [
      "5\n"
     ]
    }
   ],
   "source": [
    "dict =  {'Alex': ['subj1', 'subj2', 'subj3'], 'David': ['subj1', 'subj2']}\n",
    "\n",
    "sum=0\n",
    "for i in dict.values():\n",
    "    sum=sum+len(i)\n",
    "print(sum)"
   ]
  },
  {
   "cell_type": "markdown",
   "id": "24383927-8a79-48f3-9f96-6c16c8858c2a",
   "metadata": {},
   "source": [
    "# Write a  Python program to sort Counter by value."
   ]
  },
  {
   "cell_type": "code",
   "execution_count": null,
   "id": "f4f00d22-662e-46a7-b613-b33862f1e9c4",
   "metadata": {},
   "outputs": [],
   "source": [
    "Sample data : {'Math':81, 'Physics':83, 'Chemistry':87}\n",
    "Expected data: [('Chemistry', 87), ('Physics', 83), ('Math', 81)]"
   ]
  },
  {
   "cell_type": "code",
   "execution_count": 15,
   "id": "61eeb654-bdfd-4f63-9d2e-2074b147197c",
   "metadata": {},
   "outputs": [
    {
     "name": "stdout",
     "output_type": "stream",
     "text": [
      "Expected data: [('Chemistry', 87), ('Physics', 83), ('Math', 81)]\n"
     ]
    }
   ],
   "source": [
    "Sample_data = {'Math':81, 'Physics':83, 'Chemistry':87}\n",
    "\n",
    "sorted_Sample_data=sorted(Sample_data.items(),key=lambda x:x[1],reverse=True)\n",
    "\n",
    "sorted_list = [(key,value) for key, value in sorted_Sample_data]\n",
    "sorted_list\n",
    "print(\"Expected data:\",sorted_list)"
   ]
  },
  {
   "cell_type": "markdown",
   "id": "4263bab3-74f0-4487-b1cc-3c76307ee7cb",
   "metadata": {},
   "source": [
    "# Write a Python program to match key values in two dictionaries."
   ]
  },
  {
   "cell_type": "markdown",
   "id": "04fe15ce-1388-4c86-a1d3-24ab6586d1b3",
   "metadata": {},
   "source": [
    "Sample dictionary: {'key1': 1, 'key2': 3, 'key3': 2}, {'key1': 1, 'key2': 2}\n",
    "Expected output: key1: 1 is present in both x and y"
   ]
  },
  {
   "cell_type": "code",
   "execution_count": 41,
   "id": "b69df1bc-9e90-4035-a9ea-25f8a1e6ed5a",
   "metadata": {},
   "outputs": [
    {
     "name": "stdout",
     "output_type": "stream",
     "text": [
      "key1:1 is present in both x and y\n"
     ]
    }
   ],
   "source": [
    "x={'key1': 1, 'key2': 3, 'key3': 2}\n",
    "y={'key1': 1, 'key2': 2}\n",
    "\n",
    "for key, value in x.items():\n",
    "    if key in y and value == y[key]:\n",
    "        print(f\"{key}:{value}\", end=' ')\n",
    "        print(f\"is present in both x and y\")\n",
    "    "
   ]
  },
  {
   "cell_type": "markdown",
   "id": "ba07be21-fe9a-48af-bc4a-14e08a7bdd48",
   "metadata": {},
   "source": [
    "# Write a  Python program to drop empty items from a given dictionary."
   ]
  },
  {
   "cell_type": "markdown",
   "id": "f1ea73e5-09ba-4ffa-8d7f-811be44f3c40",
   "metadata": {},
   "source": [
    "### Original Dictionary:\n",
    "{'c1': 'Red', 'c2': 'Green', 'c3': None}\n",
    "### New Dictionary after dropping empty items:\n",
    "{'c1': 'Red', 'c2': 'Green'}"
   ]
  },
  {
   "cell_type": "code",
   "execution_count": 46,
   "id": "ec546512-1b4f-4f6c-a0c8-a09ae98c9ff6",
   "metadata": {},
   "outputs": [
    {
     "data": {
      "text/plain": [
       "{'c1': 'Red', 'c2': 'Green'}"
      ]
     },
     "execution_count": 46,
     "metadata": {},
     "output_type": "execute_result"
    }
   ],
   "source": [
    "original_dictionary = {'c1': 'Red', 'c2': 'Green', 'c3': None}\n",
    "\n",
    "\n",
    "new_dictionary = {key: value for key, value in original_dictionary.items() if value}\n",
    "\n",
    "new_dictionary\n"
   ]
  }
 ],
 "metadata": {
  "kernelspec": {
   "display_name": "Python 3 (ipykernel)",
   "language": "python",
   "name": "python3"
  },
  "language_info": {
   "codemirror_mode": {
    "name": "ipython",
    "version": 3
   },
   "file_extension": ".py",
   "mimetype": "text/x-python",
   "name": "python",
   "nbconvert_exporter": "python",
   "pygments_lexer": "ipython3",
   "version": "3.11.7"
  }
 },
 "nbformat": 4,
 "nbformat_minor": 5
}
