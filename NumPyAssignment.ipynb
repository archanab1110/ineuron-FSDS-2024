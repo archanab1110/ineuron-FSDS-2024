{
 "cells": [
  {
   "cell_type": "code",
   "execution_count": 2,
   "id": "0cdd243f-bd29-43a0-86ad-3c33b5db7d26",
   "metadata": {},
   "outputs": [],
   "source": [
    "import numpy as np"
   ]
  },
  {
   "cell_type": "markdown",
   "id": "d8eca5f1-eab0-485f-a0d6-cccdd49bfe91",
   "metadata": {},
   "source": [
    "#### 1. Create a 1D Numpy array with values from 0 to 9.\n"
   ]
  },
  {
   "cell_type": "code",
   "execution_count": 4,
   "id": "2a11c9f2-b63c-4bde-bb2a-f74514a9b114",
   "metadata": {},
   "outputs": [
    {
     "data": {
      "text/plain": [
       "array([0, 1, 2, 3, 4, 5, 6, 7, 8, 9])"
      ]
     },
     "execution_count": 4,
     "metadata": {},
     "output_type": "execute_result"
    }
   ],
   "source": [
    "np.arange(10)"
   ]
  },
  {
   "cell_type": "markdown",
   "id": "ad4a5781-42a5-4619-97f4-b8c24ccf56f2",
   "metadata": {},
   "source": [
    "#### 2. Create a Numpy array with values ranging from 10 to 49."
   ]
  },
  {
   "cell_type": "code",
   "execution_count": 7,
   "id": "db631ed3-92a3-43bf-bdab-fca64fde4863",
   "metadata": {},
   "outputs": [
    {
     "data": {
      "text/plain": [
       "array([10, 11, 12, 13, 14, 15, 16, 17, 18, 19, 20, 21, 22, 23, 24, 25, 26,\n",
       "       27, 28, 29, 30, 31, 32, 33, 34, 35, 36, 37, 38, 39, 40, 41, 42, 43,\n",
       "       44, 45, 46, 47, 48, 49])"
      ]
     },
     "execution_count": 7,
     "metadata": {},
     "output_type": "execute_result"
    }
   ],
   "source": [
    "np.arange(10,50)"
   ]
  },
  {
   "cell_type": "markdown",
   "id": "c606e23c-f861-493d-b783-dc45818b4774",
   "metadata": {},
   "source": [
    "#### 3.Create a 2D Numpy array and change the data type to float"
   ]
  },
  {
   "cell_type": "code",
   "execution_count": 39,
   "id": "f3dbbea2-8795-4792-94be-936a60ac8b38",
   "metadata": {},
   "outputs": [
    {
     "data": {
      "text/plain": [
       "2"
      ]
     },
     "execution_count": 39,
     "metadata": {},
     "output_type": "execute_result"
    }
   ],
   "source": [
    "a1= np.array([[1,2, 3],\n",
    "           [4,5,6]])\n",
    "a1.astype(float)"
   ]
  },
  {
   "cell_type": "markdown",
   "id": "b4b712b7-d659-42a8-87cf-07d943d90d15",
   "metadata": {},
   "source": [
    "#### 4. Create a 4x4 identity matrix."
   ]
  },
  {
   "cell_type": "code",
   "execution_count": 14,
   "id": "dea39baa-c184-46b8-9804-a23105ec249c",
   "metadata": {},
   "outputs": [
    {
     "data": {
      "text/plain": [
       "array([[1., 0., 0., 0.],\n",
       "       [0., 1., 0., 0.],\n",
       "       [0., 0., 1., 0.],\n",
       "       [0., 0., 0., 1.]])"
      ]
     },
     "execution_count": 14,
     "metadata": {},
     "output_type": "execute_result"
    }
   ],
   "source": [
    "np.identity(4)"
   ]
  },
  {
   "cell_type": "markdown",
   "id": "b373c4d7-ff2d-4678-b9c2-dcf1d68b95d2",
   "metadata": {},
   "source": [
    "#### 5. Create a Numpy array with 10 values evenly spaced between 1 and 5."
   ]
  },
  {
   "cell_type": "code",
   "execution_count": 15,
   "id": "6df63cab-75e3-4160-a4e8-816b493b9665",
   "metadata": {},
   "outputs": [
    {
     "data": {
      "text/plain": [
       "array([1.        , 1.44444444, 1.88888889, 2.33333333, 2.77777778,\n",
       "       3.22222222, 3.66666667, 4.11111111, 4.55555556, 5.        ])"
      ]
     },
     "execution_count": 15,
     "metadata": {},
     "output_type": "execute_result"
    }
   ],
   "source": [
    "np.linspace(1,5,num=10)"
   ]
  },
  {
   "cell_type": "markdown",
   "id": "4eb11877-433c-42ab-9542-a4f012c3f314",
   "metadata": {},
   "source": [
    "#### 6. Create a 3x3 Numpy array with random values."
   ]
  },
  {
   "cell_type": "code",
   "execution_count": 18,
   "id": "3c1ecd66-c89d-4f23-82a7-e1a393bcd5ae",
   "metadata": {},
   "outputs": [
    {
     "data": {
      "text/plain": [
       "array([[0.22515491, 0.22696883, 0.95869506],\n",
       "       [0.10388975, 0.02204626, 0.34019879],\n",
       "       [0.40924302, 0.15841719, 0.58862587]])"
      ]
     },
     "execution_count": 18,
     "metadata": {},
     "output_type": "execute_result"
    }
   ],
   "source": [
    "np.random.random((3,3))"
   ]
  },
  {
   "cell_type": "markdown",
   "id": "ce4ec694-6979-4779-902c-a921efa025b0",
   "metadata": {},
   "source": [
    "#### 7. Create a Numpy array with 20 random values and reshape it to a 4x5 array."
   ]
  },
  {
   "cell_type": "code",
   "execution_count": 24,
   "id": "2ab8b29b-e7ee-4b0d-a76a-112dac029090",
   "metadata": {},
   "outputs": [
    {
     "data": {
      "text/plain": [
       "array([[0.18088804, 0.49013454, 0.24002253, 0.52395068, 0.2979853 ],\n",
       "       [0.81810284, 0.24214934, 0.21773189, 0.64097155, 0.17683339],\n",
       "       [0.94419655, 0.79518064, 0.82946634, 0.87117584, 0.16643643],\n",
       "       [0.75168507, 0.70129844, 0.74681194, 0.00327697, 0.23495389]])"
      ]
     },
     "execution_count": 24,
     "metadata": {},
     "output_type": "execute_result"
    }
   ],
   "source": [
    "l1=np.random.random(20)\n",
    "l1.reshape(4,5)"
   ]
  },
  {
   "cell_type": "markdown",
   "id": "864b6e92-2f6e-4135-af2f-487373a43967",
   "metadata": {},
   "source": [
    "#### 8. Create an array of shape (3, 3) and extract the values of the second row."
   ]
  },
  {
   "cell_type": "code",
   "execution_count": 26,
   "id": "932a4db3-aaa2-4855-ba6d-82c692a54bc8",
   "metadata": {},
   "outputs": [
    {
     "data": {
      "text/plain": [
       "array([0.11576312, 0.36035271, 0.55358708])"
      ]
     },
     "execution_count": 26,
     "metadata": {},
     "output_type": "execute_result"
    }
   ],
   "source": [
    "a2= np.random.random((3,3))\n",
    "a2[1]"
   ]
  },
  {
   "cell_type": "markdown",
   "id": "1418875d-6f97-4db0-972f-e4c209873ef9",
   "metadata": {},
   "source": [
    "#### 9. Create a 5x5 matrix with values 1 to 25 and extract the element in the third row and fourth column.\r\n"
   ]
  },
  {
   "cell_type": "code",
   "execution_count": 71,
   "id": "496c4cde-a037-4713-8f0c-bc444ade0e4d",
   "metadata": {},
   "outputs": [
    {
     "name": "stdout",
     "output_type": "stream",
     "text": [
      "[[ 1  2  3  4  5]\n",
      " [ 6  7  8  9 10]\n",
      " [11 12 13 14 15]\n",
      " [16 17 18 19 20]\n",
      " [21 22 23 24 25]]\n",
      " \n",
      "14\n"
     ]
    }
   ],
   "source": [
    "a3 = np.arange(1,26).reshape(5,5)\n",
    "\n",
    "print(a3)\n",
    "print(\" \")\n",
    "print(a3[2][3])"
   ]
  },
  {
   "cell_type": "markdown",
   "id": "985ef262-922b-498a-a3ef-df0dc75e6054",
   "metadata": {},
   "source": [
    "#### 10. Find the shape, size, and data type of a given Numpy array.\r\n"
   ]
  },
  {
   "cell_type": "code",
   "execution_count": 38,
   "id": "27aab77b-98d3-4ece-abd9-7535ac1bfda5",
   "metadata": {},
   "outputs": [
    {
     "data": {
      "text/plain": [
       "((5, 5), 25, dtype('int32'))"
      ]
     },
     "execution_count": 38,
     "metadata": {},
     "output_type": "execute_result"
    }
   ],
   "source": [
    "a3.shape,a3.size,a3.dtype"
   ]
  },
  {
   "cell_type": "markdown",
   "id": "7f9ede27-4e64-4bcf-8041-8ec4daea19a2",
   "metadata": {},
   "source": [
    "#### 11. Flatten a given 2D Numpy array."
   ]
  },
  {
   "cell_type": "code",
   "execution_count": 46,
   "id": "f169c2dd-4da3-48b5-9b7a-ff0f1f2774c6",
   "metadata": {},
   "outputs": [
    {
     "data": {
      "text/plain": [
       "array([1, 2, 3, 4, 5, 6])"
      ]
     },
     "execution_count": 46,
     "metadata": {},
     "output_type": "execute_result"
    }
   ],
   "source": [
    "a1= np.array([[1,2, 3],\n",
    "           [4,5,6]])\n",
    "a2=a1.flatten()\n",
    "a2"
   ]
  },
  {
   "cell_type": "markdown",
   "id": "55dfda87-3ca2-42d0-8146-1aa56563dd0d",
   "metadata": {},
   "source": [
    "#### 12. Concatenate two Numpy arrays along the second axis."
   ]
  },
  {
   "cell_type": "code",
   "execution_count": 49,
   "id": "712a76e8-0c01-4324-9c39-85e21ae68156",
   "metadata": {},
   "outputs": [
    {
     "data": {
      "text/plain": [
       "array([[ 1,  2,  3,  7,  8,  9],\n",
       "       [ 4,  5,  6, 10, 11, 12]])"
      ]
     },
     "execution_count": 49,
     "metadata": {},
     "output_type": "execute_result"
    }
   ],
   "source": [
    "a1= np.array([[1,2, 3],\n",
    "           [4,5,6]])\n",
    "a2= np.array([[7,8,9],\n",
    "              [10,11,12]])\n",
    "np.concatenate((a1,a2), axis=1)"
   ]
  },
  {
   "cell_type": "markdown",
   "id": "8be53348-ccd9-461c-9761-3af9551f2886",
   "metadata": {},
   "source": [
    "#### 13. Split a given Numpy array into 3 equal-sized sub-arrays."
   ]
  },
  {
   "cell_type": "code",
   "execution_count": 52,
   "id": "0b0e402e-a33f-437b-b368-25441f7c9ebd",
   "metadata": {},
   "outputs": [
    {
     "data": {
      "text/plain": [
       "[array([[1, 2, 3]]), array([[4, 5, 6]]), array([[7, 8, 9]])]"
      ]
     },
     "execution_count": 52,
     "metadata": {},
     "output_type": "execute_result"
    }
   ],
   "source": [
    "a3 = np.arange(1,10).reshape(3,3)\n",
    "np.split(a3,3,axis=0)"
   ]
  },
  {
   "cell_type": "code",
   "execution_count": 53,
   "id": "0fd4c6ca-ae31-4c0e-af7c-d62835ef32b7",
   "metadata": {},
   "outputs": [
    {
     "data": {
      "text/plain": [
       "[array([[1],\n",
       "        [4],\n",
       "        [7]]),\n",
       " array([[2],\n",
       "        [5],\n",
       "        [8]]),\n",
       " array([[3],\n",
       "        [6],\n",
       "        [9]])]"
      ]
     },
     "execution_count": 53,
     "metadata": {},
     "output_type": "execute_result"
    }
   ],
   "source": [
    "a3 = np.arange(1,10).reshape(3,3)\n",
    "np.split(a3,3,axis=1)"
   ]
  },
  {
   "cell_type": "markdown",
   "id": "a825bf59-d2f2-48cc-a606-65bda3a597e6",
   "metadata": {},
   "source": [
    "#### 14. Create a Numpy array with 10 random integers between 1 and 100, and find the maximum and minimum values."
   ]
  },
  {
   "cell_type": "code",
   "execution_count": 68,
   "id": "50b407c7-c64a-4b5a-bf57-1d0059a7180f",
   "metadata": {},
   "outputs": [
    {
     "name": "stdout",
     "output_type": "stream",
     "text": [
      "[95 28 39  9 73 37 76 53 42 70]\n",
      "\n",
      "Maximum value is:  95\n",
      "Minimum value is:  9\n"
     ]
    }
   ],
   "source": [
    "R= np.random.randint(1,101,size=10)\n",
    "print(R)\n",
    "\n",
    "print(\"\\nMaximum value is: \",np.max(R))\n",
    "print(\"Minimum value is: \",np.min(R))"
   ]
  },
  {
   "cell_type": "markdown",
   "id": "654ea509-ea2a-4a55-ac41-9bc3d2a739ba",
   "metadata": {},
   "source": [
    "#### 15. Create a Numpy array with random values and replace all values greater than 0.5 with 1."
   ]
  },
  {
   "cell_type": "code",
   "execution_count": 74,
   "id": "7752a1be-b9dc-4ce5-b9f6-28dd45f89496",
   "metadata": {},
   "outputs": [
    {
     "name": "stdout",
     "output_type": "stream",
     "text": [
      "The array is :  [0.52507873 0.5296313  0.77948918 0.28090255 0.08529312 0.04449677\n",
      " 0.29076806 0.57420872 0.33716918 0.25473895]\n",
      "\n",
      "Array after replacing:  [1.         1.         1.         0.28090255 0.08529312 0.04449677\n",
      " 0.29076806 1.         0.33716918 0.25473895]\n"
     ]
    }
   ],
   "source": [
    "S= np.random.rand(10)\n",
    "print(\"The array is : \",S)\n",
    "S[S>0.5]=1\n",
    "print (\"\\nArray after replacing: \",S)"
   ]
  },
  {
   "cell_type": "markdown",
   "id": "d95ff52d-473d-4adf-b338-2ae526cd5868",
   "metadata": {},
   "source": [
    "#### 16. Multiply two given Numpy arrays element-wise."
   ]
  },
  {
   "cell_type": "code",
   "execution_count": 76,
   "id": "910b8e03-787d-4b7d-b601-5e1f5846fd75",
   "metadata": {},
   "outputs": [
    {
     "data": {
      "text/plain": [
       "array([[ 7, 16, 27],\n",
       "       [40, 55, 72]])"
      ]
     },
     "execution_count": 76,
     "metadata": {},
     "output_type": "execute_result"
    }
   ],
   "source": [
    "a1= np.array([[1,2, 3],\n",
    "           [4,5,6]])\n",
    "a2= np.array([[7,8,9],\n",
    "              [10,11,12]])\n",
    "np.multiply(a1,a2)"
   ]
  },
  {
   "cell_type": "markdown",
   "id": "9fa46058-bf65-4c61-822d-e888048471f0",
   "metadata": {},
   "source": [
    "#### 17. Compute the dot product of two given Numpy arrays."
   ]
  },
  {
   "cell_type": "code",
   "execution_count": 81,
   "id": "18d4c994-e442-461c-8b3d-f6f7a0e3dd41",
   "metadata": {},
   "outputs": [
    {
     "data": {
      "text/plain": [
       "array([[ 53,  59],\n",
       "       [128, 143]])"
      ]
     },
     "execution_count": 81,
     "metadata": {},
     "output_type": "execute_result"
    }
   ],
   "source": [
    "a1= np.array([[1,2,3],\n",
    "           [4,5,6]])\n",
    "a2= np.array([[7,8],\n",
    "              [8,9],\n",
    "              [10,11]])\n",
    "np.dot(a1,a2)"
   ]
  },
  {
   "cell_type": "markdown",
   "id": "dc4b34bc-21fc-4958-b9c1-ce43637627b3",
   "metadata": {},
   "source": [
    "#### 18. Add a scalar value to a given Numpy array."
   ]
  },
  {
   "cell_type": "code",
   "execution_count": 82,
   "id": "dd44eca3-da0f-4da8-b2f7-ec8a7d84fd92",
   "metadata": {},
   "outputs": [
    {
     "data": {
      "text/plain": [
       "array([[ 6,  7,  8],\n",
       "       [ 9, 10, 11]])"
      ]
     },
     "execution_count": 82,
     "metadata": {},
     "output_type": "execute_result"
    }
   ],
   "source": [
    "a1= np.array([[1,2,3],\n",
    "           [4,5,6]])\n",
    "a2=a1+5\n",
    "a2"
   ]
  },
  {
   "cell_type": "markdown",
   "id": "fcce315a-9717-41ce-8caa-bde0ea5097ad",
   "metadata": {},
   "source": [
    "#### 19. Subtract one Numpy array from another."
   ]
  },
  {
   "cell_type": "code",
   "execution_count": 85,
   "id": "c175e2b8-8568-42c6-a05d-a9272cca888f",
   "metadata": {},
   "outputs": [
    {
     "data": {
      "text/plain": [
       "array([[ 4, 16,  6],\n",
       "       [ 6, 10, 13]])"
      ]
     },
     "execution_count": 85,
     "metadata": {},
     "output_type": "execute_result"
    }
   ],
   "source": [
    "a1= np.array([[7,18,9],\n",
    "              [10,15,19]])\n",
    "a2= np.array([[3,2, 3],\n",
    "           [4,5,6]])\n",
    "np.subtract(a1,a2)"
   ]
  },
  {
   "cell_type": "markdown",
   "id": "07e6fd26-9202-4d95-a352-9d3b0fca8d84",
   "metadata": {},
   "source": [
    "#### 20. Find the mean, median, and standard deviation of a given Numpy array."
   ]
  },
  {
   "cell_type": "code",
   "execution_count": 97,
   "id": "d00256f3-d963-4c4f-8621-5c8f45c465ff",
   "metadata": {},
   "outputs": [
    {
     "name": "stdout",
     "output_type": "stream",
     "text": [
      "Mean: 13.0\n",
      "Median: 12.5\n",
      "Standard Deviation: 4.58\n"
     ]
    }
   ],
   "source": [
    "a1= np.array([[7,18,9],\n",
    "              [10,15,19]])\n",
    "print(\"Mean:\" ,np.mean(a1))\n",
    "print(\"Median:\" ,np.median(a1))\n",
    "print(\"Standard Deviation:\" ,np.round(np.std(a1),decimals=2))"
   ]
  },
  {
   "cell_type": "markdown",
   "id": "947e4b9b-abc9-4d91-9be2-a1dc78b963b7",
   "metadata": {},
   "source": [
    "#### 21. Sort a given Numpy array along the first axis.\n"
   ]
  },
  {
   "cell_type": "code",
   "execution_count": 98,
   "id": "11cc411d-8c54-465c-85f8-76d9419db2fc",
   "metadata": {},
   "outputs": [
    {
     "data": {
      "text/plain": [
       "array([[ 7, 15,  9],\n",
       "       [10, 18, 19]])"
      ]
     },
     "execution_count": 98,
     "metadata": {},
     "output_type": "execute_result"
    }
   ],
   "source": [
    "a1= np.array([[7,18,9],\n",
    "              [10,15,19]])\n",
    "np.sort(a1, axis=0)"
   ]
  },
  {
   "cell_type": "markdown",
   "id": "8a33eec8-8423-492f-b0d1-9f64136b5785",
   "metadata": {},
   "source": [
    "#### 22. Find the unique elements of a given Numpy array."
   ]
  },
  {
   "cell_type": "code",
   "execution_count": 100,
   "id": "a3f098a1-547d-418d-b9a8-e8bb1b9367de",
   "metadata": {},
   "outputs": [
    {
     "data": {
      "text/plain": [
       "array([ 2,  3,  4,  5,  6,  8, 11, 12])"
      ]
     },
     "execution_count": 100,
     "metadata": {},
     "output_type": "execute_result"
    }
   ],
   "source": [
    "a3= np.array([[ 2,  2,  3,  3,  8,  8],\n",
    "       [ 4,  5,  6, 6, 11, 12]])\n",
    "np.unique(a3)"
   ]
  },
  {
   "cell_type": "markdown",
   "id": "86ef5fc3-1c0d-4a8e-a319-6cd557bbbce0",
   "metadata": {},
   "source": [
    "#### 23. Check if a given Numpy array contains any NaN values."
   ]
  },
  {
   "cell_type": "code",
   "execution_count": 101,
   "id": "709ab81a-757b-4c14-8d60-d78aa382b468",
   "metadata": {},
   "outputs": [
    {
     "name": "stdout",
     "output_type": "stream",
     "text": [
      "The array contains NaN values.\n"
     ]
    }
   ],
   "source": [
    "arr = np.array([1, 2, np.nan, 4, 5])\n",
    "\n",
    "has_nan = np.any(np.isnan(arr))\n",
    "\n",
    "if has_nan:\n",
    "    print(\"The array contains NaN values.\")\n",
    "else:\n",
    "    print(\"The array does not contain NaN values.\")"
   ]
  },
  {
   "cell_type": "code",
   "execution_count": 102,
   "id": "b757c81a-2413-49e7-82bb-5cb384bf7cce",
   "metadata": {},
   "outputs": [
    {
     "name": "stdout",
     "output_type": "stream",
     "text": [
      "The array does not contain NaN values.\n"
     ]
    }
   ],
   "source": [
    "arr = np.array([1, 2, 3, 4, 5])\n",
    "\n",
    "has_nan = np.any(np.isnan(arr))\n",
    "\n",
    "if has_nan:\n",
    "    print(\"The array contains NaN values.\")\n",
    "else:\n",
    "    print(\"The array does not contain NaN values.\")"
   ]
  },
  {
   "cell_type": "markdown",
   "id": "c7949a79-50ab-4f89-90e6-ac5a5038bcac",
   "metadata": {},
   "source": [
    "#### 24. Create a 5x5 matrix and pad it with zeros along the border."
   ]
  },
  {
   "cell_type": "code",
   "execution_count": 103,
   "id": "c4b5e963-9b2c-4563-9f8b-f2540a446a07",
   "metadata": {},
   "outputs": [
    {
     "name": "stdout",
     "output_type": "stream",
     "text": [
      "Original matrix:\n",
      "[[6 1 1 8 1]\n",
      " [8 4 1 6 8]\n",
      " [5 1 8 9 4]\n",
      " [7 7 2 8 6]\n",
      " [9 4 3 5 3]]\n",
      "\n",
      "Padded matrix with zeros along the border:\n",
      "[[0 0 0 0 0 0 0]\n",
      " [0 6 1 1 8 1 0]\n",
      " [0 8 4 1 6 8 0]\n",
      " [0 5 1 8 9 4 0]\n",
      " [0 7 7 2 8 6 0]\n",
      " [0 9 4 3 5 3 0]\n",
      " [0 0 0 0 0 0 0]]\n"
     ]
    }
   ],
   "source": [
    "matrix = np.random.randint(1, 10, size=(5, 5))\n",
    "print(\"Original matrix:\")\n",
    "print(matrix)\n",
    "\n",
    "padded_matrix = np.pad(matrix, pad_width=1, mode='constant', constant_values=0)\n",
    "\n",
    "print(\"\\nPadded matrix with zeros along the border:\")\n",
    "print(padded_matrix)\n"
   ]
  },
  {
   "cell_type": "markdown",
   "id": "78cfeaa8-249d-4402-8ff5-ac3faa1a4e84",
   "metadata": {},
   "source": [
    "#### 25. Transpose a given Numpy array."
   ]
  },
  {
   "cell_type": "code",
   "execution_count": 104,
   "id": "64696237-e8a5-44ac-bce2-27c98198b388",
   "metadata": {},
   "outputs": [
    {
     "data": {
      "text/plain": [
       "array([[ 7, 10],\n",
       "       [18, 15],\n",
       "       [ 9, 19]])"
      ]
     },
     "execution_count": 104,
     "metadata": {},
     "output_type": "execute_result"
    }
   ],
   "source": [
    "a1= np.array([[7,18,9],\n",
    "              [10,15,19]])\n",
    "a2=np.transpose(a1)\n",
    "a2"
   ]
  },
  {
   "cell_type": "markdown",
   "id": "e759f391-616d-4ea0-b93e-7253707cef39",
   "metadata": {},
   "source": [
    "#### 26. Reverse the rows of a given 2D Numpy array."
   ]
  },
  {
   "cell_type": "code",
   "execution_count": 109,
   "id": "b99eae74-3f78-4bfc-a620-f08c45bfda40",
   "metadata": {},
   "outputs": [
    {
     "name": "stdout",
     "output_type": "stream",
     "text": [
      "[[ 7 18  9]\n",
      " [10 15 19]]\n",
      "\n",
      "Reversed array:  [[10 15 19]\n",
      " [ 7 18  9]]\n"
     ]
    }
   ],
   "source": [
    "a1= np.array([[7,18,9],\n",
    "              [10,15,19]])\n",
    "print(a1)\n",
    "reversed_arr = a1[ : : -1]\n",
    "print(\"\\nReversed array: \",reversed_arr)"
   ]
  },
  {
   "cell_type": "markdown",
   "id": "db3516fa-cf77-428b-a572-961a6c9d5cba",
   "metadata": {},
   "source": [
    "#### 27. Compute the cumulative sum of a given Numpy array."
   ]
  },
  {
   "cell_type": "code",
   "execution_count": 115,
   "id": "43eb08b7-f4b6-475d-8f7f-d76c047c479e",
   "metadata": {},
   "outputs": [
    {
     "name": "stdout",
     "output_type": "stream",
     "text": [
      "Cumulative sum of all elements:\n",
      "[ 7 25 34 44 59 78]\n",
      "\n",
      "Cumulative sum along rows (axis=1):\n",
      "[[ 7 25 34]\n",
      " [10 25 44]]\n",
      "\n",
      "Cumulative sum along columns (axis=0):\n",
      "[[ 7 18  9]\n",
      " [17 33 28]]\n"
     ]
    }
   ],
   "source": [
    "a1 = np.array([[7, 18, 9],\n",
    "               [10, 15, 19]])\n",
    "\n",
    "cumulative_sum_all = np.cumsum(a1)\n",
    "\n",
    "print(\"Cumulative sum of all elements:\")\n",
    "print(cumulative_sum_all)\n",
    "\n",
    "# cumulative sum along rows (axis=1)\n",
    "cumulative_sum_rows = np.cumsum(a1, axis=1)\n",
    "\n",
    "print(\"\\nCumulative sum along rows (axis=1):\")\n",
    "print(cumulative_sum_rows)\n",
    "\n",
    "# cumulative sum along columns (axis=0)\n",
    "cumulative_sum_columns = np.cumsum(a1, axis=0)\n",
    "\n",
    "print(\"\\nCumulative sum along columns (axis=0):\")\n",
    "print(cumulative_sum_columns)\n"
   ]
  },
  {
   "cell_type": "markdown",
   "id": "42c392d9-88c2-4620-9c15-fbd4de046ea3",
   "metadata": {},
   "source": [
    "#### 28. Normalize a given Numpy array."
   ]
  },
  {
   "cell_type": "code",
   "execution_count": 116,
   "id": "eb32a6f0-74c7-4525-a3c3-a178f91c7e4a",
   "metadata": {},
   "outputs": [
    {
     "name": "stdout",
     "output_type": "stream",
     "text": [
      "Original array:\n",
      "[[ 7 18  9]\n",
      " [10 15 19]]\n",
      "\n",
      "Normalized array (Min-Max normalization):\n",
      "[[0.         0.91666667 0.16666667]\n",
      " [0.25       0.66666667 1.        ]]\n"
     ]
    }
   ],
   "source": [
    "a1 = np.array([[7, 18, 9],\n",
    "               [10, 15, 19]])\n",
    "\n",
    "# Min-Max normalization\n",
    "normalized_a1 = (a1 - np.min(a1)) / (np.max(a1) - np.min(a1))\n",
    "\n",
    "print(\"Original array:\")\n",
    "print(a1)\n",
    "\n",
    "print(\"\\nNormalized array (Min-Max normalization):\")\n",
    "print(normalized_a1)\n"
   ]
  },
  {
   "cell_type": "markdown",
   "id": "1d6c5f1f-3a67-4d7d-97a1-54cad448c4b0",
   "metadata": {},
   "source": [
    "#### 29.  Reshape a given Numpy array to have 1 row and multiple columns."
   ]
  },
  {
   "cell_type": "code",
   "execution_count": 117,
   "id": "e9eb3409-99ab-4963-be1c-6d7c167a3780",
   "metadata": {},
   "outputs": [
    {
     "name": "stdout",
     "output_type": "stream",
     "text": [
      "Original matrix:  [[1 2 3]\n",
      " [4 5 6]]\n",
      "\n",
      "Reshaped Matrix:  [[1 2 3 4 5 6]]\n"
     ]
    }
   ],
   "source": [
    "a1 = np.array([[1, 2, 3],\n",
    "               [4, 5, 6]])\n",
    "print(\"Original matrix: \", a1)\n",
    "reshaped_a1 = a1.reshape(1, -1)\n",
    "print(\"\\nReshaped Matrix: \",reshaped_a1)"
   ]
  },
  {
   "cell_type": "code",
   "execution_count": null,
   "id": "b54f4839-7c6d-4833-bb5e-5e28189be363",
   "metadata": {},
   "outputs": [],
   "source": []
  },
  {
   "cell_type": "code",
   "execution_count": null,
   "id": "65fd7058-8be8-45b2-b1e8-71400de4b04b",
   "metadata": {},
   "outputs": [],
   "source": []
  }
 ],
 "metadata": {
  "kernelspec": {
   "display_name": "Python 3 (ipykernel)",
   "language": "python",
   "name": "python3"
  },
  "language_info": {
   "codemirror_mode": {
    "name": "ipython",
    "version": 3
   },
   "file_extension": ".py",
   "mimetype": "text/x-python",
   "name": "python",
   "nbconvert_exporter": "python",
   "pygments_lexer": "ipython3",
   "version": "3.11.7"
  }
 },
 "nbformat": 4,
 "nbformat_minor": 5
}
